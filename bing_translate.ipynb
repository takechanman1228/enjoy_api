{
 "cells": [
  {
   "cell_type": "code",
   "execution_count": 33,
   "metadata": {
    "collapsed": true
   },
   "outputs": [],
   "source": [
    "# document:https://github.com/openlabs/Microsoft-Translator-Python-API"
   ]
  },
  {
   "cell_type": "code",
   "execution_count": 1,
   "metadata": {
    "collapsed": true
   },
   "outputs": [],
   "source": [
    "from microsofttranslator import Translator"
   ]
  },
  {
   "cell_type": "code",
   "execution_count": 4,
   "metadata": {
    "collapsed": false
   },
   "outputs": [],
   "source": [
    "import pandas as pd\n",
    "df=pd.read_csv(\"secret/secret_bing_translate.csv\", header=None)\n",
    "NAME_TRANS = df[0][0]\n",
    "KEY_TRANS = df[0][1]"
   ]
  },
  {
   "cell_type": "code",
   "execution_count": 8,
   "metadata": {
    "collapsed": true
   },
   "outputs": [],
   "source": [
    "translator = Translator(NAME_TRANS, KEY_TRANS)\n",
    "lang_target = \"ja\""
   ]
  },
  {
   "cell_type": "code",
   "execution_count": 7,
   "metadata": {
    "collapsed": false
   },
   "outputs": [
    {
     "name": "stdout",
     "output_type": "stream",
     "text": [
      "こんにちは\n"
     ]
    }
   ],
   "source": [
    "print(translator.translate(\"Hello\", \"ja\"))"
   ]
  },
  {
   "cell_type": "code",
   "execution_count": null,
   "metadata": {
    "collapsed": true
   },
   "outputs": [],
   "source": []
  },
  {
   "cell_type": "code",
   "execution_count": 60,
   "metadata": {
    "collapsed": true
   },
   "outputs": [],
   "source": [
    "# https://github.com/tristantao/py-bing-search"
   ]
  },
  {
   "cell_type": "code",
   "execution_count": 51,
   "metadata": {
    "collapsed": true
   },
   "outputs": [],
   "source": [
    "from py_bing_search import PyBingImageSearch, PyBingVideoSearch, PyBingWebSearch"
   ]
  },
  {
   "cell_type": "code",
   "execution_count": 52,
   "metadata": {
    "collapsed": false
   },
   "outputs": [],
   "source": [
    "df=pd.read_csv(\"secret/secret_bing_search.csv\", header=None)\n",
    "KEY_SEARCH = df[0][0]"
   ]
  },
  {
   "cell_type": "code",
   "execution_count": 53,
   "metadata": {
    "collapsed": false
   },
   "outputs": [],
   "source": [
    "search_term = \"Python Software Foundation\"\n",
    "bing_web = PyBingWebSearch(KEY_SEARCH, search_term, web_only=False)"
   ]
  },
  {
   "cell_type": "code",
   "execution_count": 54,
   "metadata": {
    "collapsed": false
   },
   "outputs": [],
   "source": [
    "first_fifty_result= bing_web.search(limit=50, format='json')"
   ]
  },
  {
   "cell_type": "code",
   "execution_count": 59,
   "metadata": {
    "collapsed": false
   },
   "outputs": [
    {
     "name": "stdout",
     "output_type": "stream",
     "text": [
      "Python Software Foundation | Python Software Foundation\n",
      "https://www.python.org/psf/\n",
      "The official home of the Python Programming Language ... Python Software Foundation The mission of the Python Software Foundation is to promote, protect, and advance the Python programming language, and to support and ...\n",
      "Python Software Foundation - Welcome to Python.org\n",
      "https://www.python.org/psf-landing/\n",
      "The official home of the Python Programming Language ... PSF Grants Program The Python Software Foundation welcomes grant proposals for projects related to the development of Python, Python-related technology, and ...\n",
      "licenses/Python_Software_Foundation_License - Open ...\n",
      "https://osdn.jp/projects/opensource/wiki/licenses%2FPython_Software_Foundation_License\n",
      "Python Software Foundationライセンス Python 2.1.1ライセンス これはPython 2.1.1リリースの公式ライセンスです。 A. ソフトウェアの歴史 Pythonは1990年代初期に、オランダのStichting Mathematisch Centrum（CWI）にいたGuido van ...\n",
      "Python Software Foundation License - Wikipedia\n",
      "https://ja.wikipedia.org/wiki/Python_Software_Foundation_License\n",
      "Python Software Foundation License フリーソフトウェア Yes [1] OSIの承認 Yes GPLとの適合性 Yes [1] コピーレフト No テンプレートを表示 Python Software Foundation License(PSFL)はBSDスタイルの許容的フリーソフトウェアライセンスであり、 ...\n",
      "Python Software Foundation License - Python Software ...\n",
      "http://www.weblio.jp/wkpja/content/Python+Software+Foundation+License_Python+Software+Foundation+License%E3%81%AE%E6%A6%82%E8%A6%81\n",
      "All text is available under the terms of the GNU Free Documentation License. この記事は、ウィキペディアのPython Software Foundation License (改訂履歴)の記事を複製、再配布したものにあたり、GNU Free Documentation Licenseという ...\n",
      "Python Software Foundation News\n",
      "http://pyfound.blogspot.com/\n",
      "News from the Python Software Foundation Tuesday, June 14, 2016 The PSF's Growing Success In honor of the 2016-2017 board of director's first board meeting today, I wanted to share the PSF's growing success with the ...\n",
      "Google Summer of Code 2016 @ the Python Software Foundation\n",
      "https://wiki.python.org/moin/SummerOfCode/2016\n",
      "Mentors Interested in volunteering with the Python Software Foundation? We've got roles to suit all sorts of people! The biggest job is mentoring students: Mentoring a student as a primary mentor can be a pretty big time commitment ...\n",
      "Python Software Foundation Licenseとは - Weblio辞書\n",
      "http://www.weblio.jp/wkpja/content/Python+Software+Foundation+License\n",
      "Python Software Foundation Licenseとは? Python Software Foundation License(PSFL)はBSDスタイルの許容的フリーソフトウェアライセンスであり、GNU General Public Licenseと互換性... ... 出典: フリー百科事典『ウィキペディア ...\n",
      "About the Python Software Foundation\n",
      "http://legacy.python.org/psf/about/\n",
      "What is the Python Software Foundation? From the PSF Mission Statement: The mission of the Python Software Foundation is to promote, protect, and advance the Python programming language, and to support and facilitate the ...\n",
      "Python Software Foundation Home Page - Python ...\n",
      "http://legacy.python.org/psf/\n",
      "Python Software Foundation Home Page The mission of the Python Software Foundation is to promote, protect, and advance the Python programming language, and to support and facilitate the growth of a diverse and international ...\n",
      "Overview — Python 3.3.6 documentation\n",
      "https://docs.python.org/3.3/index.html\n",
      "Python 3.3.6 documentation Welcome! This is the documentation for Python 3.3.6, last updated Oct 12, 2014. Parts of the documentation:\n",
      "Google Summer of Code 2015 @ the Python Software Foundation\n",
      "https://wiki.python.org/moin/SummerOfCode/2015\n",
      "Google Summer of Code 2015 @ the Python Software Foundation Google Summer of Code is a global program that offers post-secondary students an opportunity to be paid for contributing to an open source project over a three ...\n",
      "Python Software Foundation - Download.com\n",
      "http://download.cnet.com/windows/python-software-foundation/3260-20_4-90035-1.html\n",
      "Find Python Software Foundation software downloads at CNET Download.com, the most comprehensive source for safe, trusted, and spyware-free downloads on the Web ... The Python Software Foundation is a non ...\n",
      "Python License (Python-2.0) | Open Source Initiative\n",
      "https://opensource.org/licenses/Python-2.0\n",
      "Python License, Version 2 (Python-2.0) PYTHON SOFTWARE FOUNDATION LICENSE VERSION 2-----1. This LICENSE AGREEMENT is between the Python Software Foundation (\"PSF\"), and the Individual or Organization ...\n",
      "Python Software Foundation Pythonのダウンロード - Python ...\n",
      "http://www.otfe.org/ja/software/python-software-foundation-python\n",
      "Python Software Foundation Pythonアプリケーションが私たちのデータベースのどのファイル拡張子をサポートしているかを知りましょう。Python Software Foundation Pythonプログラムの全ての関連付け\n",
      "History and License — Python 2.7.12 documentation\n",
      "https://docs.python.org/2/license.html\n",
      "1. This LICENSE AGREEMENT is between BeOpen.com (\"BeOpen\"), having an office at 160 Saratoga Avenue, Santa Clara, CA 95051, and the Individual or Organization (\"Licensee\") accessing and otherwise using this software in ...\n",
      "Python Software Foundation – Wikipedia\n",
      "https://de.wikipedia.org/wiki/Python_Software_Foundation\n",
      "Die Python Software Foundation (PSF) ist die Organisation, die hinter dem Open-Source-Projekt der Programmiersprache Python steht. Sie ist der Herausgeber und Rechteinhaber der Python-Software-Foundation-Lizenz und besitzt ...\n",
      "Python Software Foundation — Wikipédia\n",
      "https://fr.wikipedia.org/wiki/Python_Software_Foundation\n",
      "La Python Software Foundation (PSF), est une association à but non lucratif fondée le 6 mars 2001 et dédiée au langage de programmation Python. Sa mission est de promouvoir et de protéger le langage afin d'étendre la ...\n",
      "Python Software Foundation — Википедия\n",
      "https://ru.wikipedia.org/wiki/Python_Software_Foundation\n",
      "Python Software Foundation PSF Членство: 124: Делавэр, США Тип организации: Некоммерческая организация ... Python Software Foundation (PSF) — некоммерческая организация, посвящённая языку ...\n",
      "Pythonソフトウェア財団 - Wikipedia\n",
      "https://ja.m.wikipedia.org/wiki/Python%E3%82%BD%E3%83%95%E3%83%88%E3%82%A6%E3%82%A7%E3%82%A2%E8%B2%A1%E5%9B%A3\n",
      "Python Software Foundation 略称 PSF 設立年 2001年3月6日 種類 非営利団体 本部 アメリカ合衆国 デラウェア州 貢献地域 全世界 メンバー 244 [1] 公用語 英語 予算 2011年次$750,000 ウェブサイト www.python.org /psf /\n",
      "Python Software Foundation - Wikipedia, la enciclopedia libre\n",
      "https://es.wikipedia.org/wiki/Python_Software_Foundation\n",
      "La Python Software Foundation (PSF) es una organización sin fines de lucro creada el 6 de marzo de 2001 [1] dedicada al lenguaje de programación Python. La misión de la fundación es fomentar el desarrollo de la comunidad Python. ...\n",
      "Python Software Foundation — jesse noller\n",
      "http://jessenoller.com/python-software-foundation/\n",
      "Python programming, developer advocacy - cloud technology, the python software foundation and more. ... Key Links for posts about the Python Software Foundation - some posts that I've written, and other relevant threads or sites ...\n",
      "Python Software Foundation - UpdateStar.com\n",
      "http://www.updatestar.com/ja/publisher/Python%20Software%20Foundation\n",
      "Python Software Foundation ソフトウェアの詳細な情報、ダウンロード、スクリーンショット、最新のアップデート、ニュース、およびお得情報をソフトウェア検索エンジン UpdateStar でゲット。 ... Python は多くの種類のソフトウェア開発に使用 ...\n",
      "ナビゲーション - 概要 — Python 3.5.1 ドキュメント\n",
      "http://docs.python.jp/2/copyright.html\n",
      "The Python Software Foundation is a non-profit corporation. Please donate. Last updated on 2016-07-10. Found a bug? Created using Sphinx 1.4.3. ...\n",
      "Python Software Foundation - Wikipedia\n",
      "https://nl.wikipedia.org/wiki/PSF\n",
      "De Python Software Foundation (PSF) is een non-profitorganisatie die zich inzet voor de programmeertaal Python, zoals de ontwikkeling van de taal en de Python-gemeenschap. [1] De organisatie werd opgericht op 6 maart 2001 [2] in ...\n",
      "Python Software Foundation License - Wikipedia, the free ...\n",
      "https://en.wikipedia.org/wiki/License_of_Python\n",
      "Python Software Foundation License FSF approved Yes [1] OSI approved Yes GPL compatible Yes [1] Copyleft No The Python Software Foundation License (PSFL) is a BSD-style, permissive free software license which is compatible with the ...\n",
      "The Python Software Foundation | PyCon 2016 in Portland, OR\n",
      "https://us.pycon.org/2016/psf/\n",
      "The Python Software Foundation is a 501(c)(3) nonprofit dedicated to advancing and promoting Python. The PSF supports and encourages Python events world-wide to advance its mission of growing the international community of ...\n",
      "Python - Viquipèdia, l'enciclopèdia lliure\n",
      "https://ca.wikipedia.org/wiki/Python_Software_Foundation\n",
      "Paradigma de programació: Multiparadigma, orientat a objectes, imperatiu, procedimental, reflectiu Aparegut l'any: 1991 Dissenyat per: Guido van Rossum Desenvolupador: Python Software Foundation Darrera versió estable: 3.4.3/ ...\n",
      "ナビゲーション - 概要 — Python 3.5.1 ドキュメント\n",
      "http://docs.python.jp/3/copyright.html\n",
      "Python Software Foundation は非営利団体です。 寄付 最終更新日時: 6月 26, 2016 バグを見つけたら? このドキュメントは Sphinx 1.4.3 を使って作成されました。 ...\n",
      "Python Software Foundation License カテゴリーのプロジェクト ...\n",
      "https://osdn.jp/softwaremap/trove_list.php?form_cat=322\n",
      "Python Software Foundation Licenseに関するオープンソースプロジェクト一覧。Python Software Foundation License関連のソフトウェアの無料のダウンロードと自由な開発の場を提供。1ページ ダウンロード Magazine 開発 アカウント 開発 ...\n",
      "Python Software Foundation – Wikipédia, a enciclopédia livre\n",
      "https://pt.wikipedia.org/wiki/Python_Software_Foundation\n",
      "Python Software Foundation (também conhecida por PSF) é uma organização sem fins lucrativos que se dedica à linguagem de programação Python. Foi fundada em ... Este artigo é um esboço. Você pode ajudar a Wikipédia ...\n",
      "Talk:Python Software Foundation License - Wikipedia, the ...\n",
      "https://en.wikipedia.org/wiki/Talk:Python_Software_Foundation_License\n",
      "Free Software or Open Source license? I tend to the latter, because both http://www.python.org/psf/license/ and http://www.python.org/download/releases/2.4.2/license/ specifically refer to The Open Source Initiative: \"The Open ...\n",
      "Python Software Foundation – Wikipedia, wolna encyklopedia\n",
      "https://pl.wikipedia.org/wiki/Python_Software_Foundation\n",
      "Python Software Foundation (PSF) – organizacja nie nastawiona na zysk zajmująca się językiem programowania Python. Została założona 6 marca 2001. Misja fundacji polega na promowaniu, ochronie i rozwoju języka Python, a ...\n",
      "Python Software Foundation License — Википедия\n",
      "https://ru.wikipedia.org/wiki/Python_Software_Foundation_License\n",
      "Python Software Foundation License Автор Python Software Foundation Совместима с DFSG Да Свободное программное обеспечение Да Одобрена OSI Да Совместима с GPL Да Копилефт Нет Позволяет коду под другой ...\n",
      "Python Software Foundation: Tell Us About Your User Group ...\n",
      "https://groups.google.com/d/topic/whatcom-python/of1R63wK2Z8\n",
      "The Python Software Foundation is conducting an international survey of Python User Group organizers to help us better serve the large and ever-expanding Python User Group community. The survey contains questions on user group ...\n",
      "etmtk 3.2.27 : Python Package Index\n",
      "https://pypi.python.org/pypi/etmtk\n",
      "Python 3 Packages PyPI Tutorial PyPI Security PyPI Support PyPI Bug Reports PyPI Discussion PyPI Developer Info About News Documentation Download Community Foundation Core Development Package Index > etmtk > ...\n",
      "Python Software Foundation - Wikipèdia\n",
      "https://oc.wikipedia.org/wiki/Python_Software_Foundation\n",
      "Python Software Foundation\n",
      "Frequently Asked Questions (FAQ) — Python Software ...\n",
      "http://psf-docs.readthedocs.io/en/latest/_docs/faq.html\n",
      "Contents Frequently Asked Questions (FAQ) What is the Python Software Foundation ? That’s all fine, but what do you do? What is the relationship between PyCon US and the PSF? Has the PSF donated to causes outside of ...\n",
      "Python Software Foundation - svn.python.org\n",
      "https://svn.python.org/www/trunk/pydotorg/psf/sponsor-membership-application.pdf\n",
      "Python Software Foundation Membership Application for Sponsor Members To be eligible for membership in the Python Software Foundation (PSF) as a nominated member, a person must be nominated by a current member of the\n",
      "Python Software Foundation Docs Documentation\n",
      "https://media.readthedocs.org/pdf/psf-docs/latest/psf-docs.pdf\n",
      "Python Software Foundation Docs Documentation, Release 0.1 1.4Has the PSF donated to causes outside of Python? To other lan-guages ? We have donated to other entities such asOSUOSLto assist them in their mission, and ...\n",
      "Python Software Foundation License - Wikipedia, la ...\n",
      "https://es.wikipedia.org/wiki/Python_Software_Foundation_License\n",
      "Python Software Foundation License Logo de Python Autor Python Software Foundation Versión 2.6.5 Fecha de publicación 2010 aprobado FSF Sí Aprobada por OSI Sí Compatible GPL Sí Copyleft No Utilizable junto con otras ...\n",
      "nosqldb 3.3.7 : Python Package Index\n",
      "https://pypi.python.org/pypi/nosqldb/\n",
      "Copyright © 1990-2016, Python Software Foundation Legal Statements ...\n",
      "The Community — The Hitchhiker's Guide to Python\n",
      "http://docs.python-guide.org/en/latest/intro/community/\n",
      "Python Software Foundation The mission of the Python Software Foundation is to promote, protect, and advance the Python programming language, and to support and facilitate the growth of a diverse and international community of ...\n",
      "Python Software Foundation in Wolfeboro Fls, New ...\n",
      "http://www.nonprofitfacts.com/NH/Python-Software-Foundation.html\n",
      "Python Software Foundation Employer Identification Number (EIN) 043594598 Name of Organization Python Software Foundation Address PO BOX 37, Wolfeboro Fls, NH 03896-0037 Subsection Charitable Organization, Educational ...\n",
      "Python Software Foundation wins a battle for the Python name ...\n",
      "http://www.infoworld.com/article/2614311/python/python-software-foundation-wins-a-battle-for-the-python-name.html\n",
      "Outcry from Python community convinces hosting company to stop attempt to trademark the Python name in Europe ... The Python Software Foundation (PSF) announced it has reached a settlement with POBox ...\n",
      "Python Software Foundation News: CubaConf, Day 1\n",
      "http://pyfound.blogspot.com/2016/05/cubaconf-day-1.html\n",
      "The mission of the Python Software Foundation is to promote, protect, and advance the Python programming language, and to support and facilitate the growth of a diverse and international community of Python programmers. ...\n",
      "Python Software Foundation - Local Business | Facebook\n",
      "https://www.facebook.com/pages/Python-Software-Foundation/111971932149286\n",
      "Python Software Foundation. 1,353 likes. The Python Software Foundation is a nonprofit organization devoted to the Python programming language, launched... ... <p>The <b>Python Software Foundation</b> is a <a href=\"/pages/w ...\n",
      "The Python Software Foundation: A Primer - The Perl Review\n",
      "http://www.theperlreview.com/Articles/v0i2/psf.pdf\n",
      "Python Software Foundation The PSF: • Produces the core Python distribution, made available to the public free of charge. This includes the Python language itself, its standard libraries and documentation, installers, source code ...\n",
      "Python Foundation Software\n",
      "https://software.com/publisher/python-software-foundation\n",
      "Python Foundation Software Software.com has 1 app from Python Software Foundation. Please select an app below to view more details.\n",
      "Python Software Foundation License FAQ の和訳してみた ...\n",
      "http://coffeecupman.blog28.fc2.com/blog-entry-22.html\n",
      "上記の広告は1ヶ月以上更新のないブログに表示されています。新しい記事を書く事で広告が消せます。 @ ... Python Software Foundation License FAQ を読もう！と思ったところ、せっかくだからブログのネタにと翻訳に挑戦してみた。\n"
     ]
    }
   ],
   "source": [
    "for x in first_fifty_result:\n",
    "    print(x.title)\n",
    "    print(x.url)\n",
    "    print(x.description)"
   ]
  },
  {
   "cell_type": "code",
   "execution_count": null,
   "metadata": {
    "collapsed": true
   },
   "outputs": [],
   "source": []
  },
  {
   "cell_type": "code",
   "execution_count": null,
   "metadata": {
    "collapsed": true
   },
   "outputs": [],
   "source": []
  },
  {
   "cell_type": "code",
   "execution_count": null,
   "metadata": {
    "collapsed": true
   },
   "outputs": [],
   "source": []
  }
 ],
 "metadata": {
  "kernelspec": {
   "display_name": "Python 3",
   "language": "python",
   "name": "python3"
  },
  "language_info": {
   "codemirror_mode": {
    "name": "ipython",
    "version": 3
   },
   "file_extension": ".py",
   "mimetype": "text/x-python",
   "name": "python",
   "nbconvert_exporter": "python",
   "pygments_lexer": "ipython3",
   "version": "3.5.1"
  }
 },
 "nbformat": 4,
 "nbformat_minor": 0
}
