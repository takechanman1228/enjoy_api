{
 "cells": [
  {
   "cell_type": "code",
   "execution_count": 25,
   "metadata": {
    "collapsed": false
   },
   "outputs": [],
   "source": [
    "import pandas as pd\n",
    "from trello import TrelloClient\n",
    "import datetime\n"
   ]
  },
  {
   "cell_type": "code",
   "execution_count": 11,
   "metadata": {
    "collapsed": false
   },
   "outputs": [],
   "source": [
    "df=pd.read_csv(\"secret/secret.csv\")\n",
    "TRELLO_API_KEY=df[\"trello_key\"][0]\n",
    "TRELLO_SECRET=df[\"trello_secret\"][0]\n",
    "TRELLO_TOKEN=df[\"trello_token\"][0]"
   ]
  },
  {
   "cell_type": "code",
   "execution_count": 15,
   "metadata": {
    "collapsed": true
   },
   "outputs": [],
   "source": [
    "client = TrelloClient(TRELLO_API_KEY, token=TRELLO_TOKEN)"
   ]
  },
  {
   "cell_type": "code",
   "execution_count": 16,
   "metadata": {
    "collapsed": false
   },
   "outputs": [],
   "source": [
    "created_board = client.add_board(\"Create from Google Calendar\")"
   ]
  },
  {
   "cell_type": "code",
   "execution_count": 23,
   "metadata": {
    "collapsed": false
   },
   "outputs": [
    {
     "data": {
      "text/plain": [
       "'5789e5b990303acd513d0c77'"
      ]
     },
     "execution_count": 23,
     "metadata": {},
     "output_type": "execute_result"
    }
   ],
   "source": [
    "created_board.id"
   ]
  },
  {
   "cell_type": "code",
   "execution_count": 18,
   "metadata": {
    "collapsed": false
   },
   "outputs": [
    {
     "name": "stdout",
     "output_type": "stream",
     "text": [
      "list id: 5789e5b990303acd513d0c78\n",
      "list name: To Do\n",
      "list id: 5789e5b990303acd513d0c79\n",
      "list name: Doing\n",
      "list id: 5789e5b990303acd513d0c7a\n",
      "list name: Done\n"
     ]
    }
   ],
   "source": [
    "lists = created_board.all_lists()\n",
    "for l in lists:\n",
    "    print(\"list id: {}\".format(l.id)\n",
    "    print(\"list name: {}\".format(l.name))\n",
    "    if l.name == \"Create from Google Calendar\":\n",
    "        target_board_id = l.id"
   ]
  },
  {
   "cell_type": "code",
   "execution_count": 19,
   "metadata": {
    "collapsed": false
   },
   "outputs": [
    {
     "name": "stdout",
     "output_type": "stream",
     "text": [
      "board id: 5789e5b990303acd513d0c77 \n",
      "board name: APIで作ったボード\n",
      "board id: 56edea57669f46ead611ce57 \n",
      "board name: TODO\n",
      "board id: 56d9f29ed5dc450fea3d136d \n",
      "board name: Welcome Board\n",
      "board id: 56d5b1ac671e859df79be70b \n",
      "board name: elder-berry\n",
      "board id: 571f80bfbb2ca1205eb861fb \n",
      "board name: iOS\n",
      "board id: 5781509d2b13f53c7caf807b \n",
      "board name: stock-board\n",
      "board id: 571ddebafd03426b1582932b \n",
      "board name: デザイン・開発\n",
      "board id: 577d41e6c7ff4eb760bcefb2 \n",
      "board name: プロコン\n",
      "board id: 571f59571d3264c9960a6c66 \n",
      "board name: 研究\n",
      "board id: 57286ab2dfc72c2512f3d1df \n",
      "board name: 輪講\n"
     ]
    }
   ],
   "source": [
    "boards = client.list_boards()\n",
    "for board in boards:\n",
    "    print(\"board id: {id} {closed}\".format(\n",
    "        id=board.id, closed=\"(Closed)\" if board.closed else \"\"))\n",
    "    print(\"board name: {}\".format(board.name))"
   ]
  },
  {
   "cell_type": "code",
   "execution_count": 22,
   "metadata": {
    "collapsed": false
   },
   "outputs": [],
   "source": [
    "board = client.get_board(\"5789e5b990303acd513d0c77\")\n",
    "target_list = board.get_list(\"5789e5b990303acd513d0c78\")\n",
    "created_card = target_list.add_card(\"APIで作ったカード\")\n"
   ]
  },
  {
   "cell_type": "code",
   "execution_count": null,
   "metadata": {
    "collapsed": true
   },
   "outputs": [],
   "source": [
    "# https://github.com/sarumont/py-trello/blob/c7907dddf75df992d086b860a804afa0843ad849/test/test_card.py#L100\n",
    "due_date = datetime.today()\n",
    "created_card.set_due(due_date)"
   ]
  },
  {
   "cell_type": "code",
   "execution_count": 36,
   "metadata": {
    "collapsed": true
   },
   "outputs": [],
   "source": [
    "# 文字列の日付情報からdatettimeへの変換\n",
    "str=\"2016-07-18\""
   ]
  },
  {
   "cell_type": "code",
   "execution_count": 39,
   "metadata": {
    "collapsed": false
   },
   "outputs": [],
   "source": [
    "tdatetime = datetime.datetime.strptime(str, '%Y-%m-%d')"
   ]
  },
  {
   "cell_type": "code",
   "execution_count": 40,
   "metadata": {
    "collapsed": false
   },
   "outputs": [
    {
     "data": {
      "text/plain": [
       "datetime.datetime(2016, 7, 18, 0, 0)"
      ]
     },
     "execution_count": 40,
     "metadata": {},
     "output_type": "execute_result"
    }
   ],
   "source": [
    "tdatetime"
   ]
  },
  {
   "cell_type": "code",
   "execution_count": null,
   "metadata": {
    "collapsed": true
   },
   "outputs": [],
   "source": []
  }
 ],
 "metadata": {
  "kernelspec": {
   "display_name": "Python 3",
   "language": "python",
   "name": "python3"
  },
  "language_info": {
   "codemirror_mode": {
    "name": "ipython",
    "version": 3
   },
   "file_extension": ".py",
   "mimetype": "text/x-python",
   "name": "python",
   "nbconvert_exporter": "python",
   "pygments_lexer": "ipython3",
   "version": "3.5.1"
  }
 },
 "nbformat": 4,
 "nbformat_minor": 0
}
